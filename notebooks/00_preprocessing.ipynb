{
 "cells": [
  {
   "cell_type": "code",
   "execution_count": 1,
   "id": "5770ffcc",
   "metadata": {},
   "outputs": [],
   "source": [
    "# # Debugging ONLY! autoreloads when scripts update\n",
    "# %load_ext autoreload\n",
    "# %autoreload 2\n",
    "\n",
    "import numpy as np\n",
    "import pandas as pd\n",
    "import geopandas as gpd\n",
    "\n",
    "import matplotlib.pyplot as plt\n",
    "import matplotlib.colors as mcolors\n",
    "import matplotlib.cm as cm\n",
    "import contextily as ctx\n",
    "\n",
    "import os\n",
    "\n",
    "from src import preprocessing, config"
   ]
  },
  {
   "cell_type": "markdown",
   "id": "2d33b736",
   "metadata": {},
   "source": [
    "# Obtain raw data"
   ]
  },
  {
   "cell_type": "code",
   "execution_count": 2,
   "id": "009a479f",
   "metadata": {},
   "outputs": [
    {
     "name": "stdout",
     "output_type": "stream",
     "text": [
      "GET request status: 200\n"
     ]
    }
   ],
   "source": [
    "# Get 2020 Decennial Census data\n",
    "decennial2020_dp_raw = preprocessing.fetch_2020_demographic_profile()"
   ]
  },
  {
   "cell_type": "code",
   "execution_count": 3,
   "id": "203a4663",
   "metadata": {},
   "outputs": [
    {
     "data": {
      "text/plain": [
       "(2328, 646)"
      ]
     },
     "execution_count": 3,
     "metadata": {},
     "output_type": "execute_result"
    }
   ],
   "source": [
    "np.array(decennial2020_dp_raw).shape"
   ]
  },
  {
   "cell_type": "markdown",
   "id": "345c3827",
   "metadata": {},
   "source": [
    "# Perform initial cleaning"
   ]
  },
  {
   "cell_type": "code",
   "execution_count": 3,
   "id": "fedef64e",
   "metadata": {},
   "outputs": [
    {
     "data": {
      "text/html": [
       "<div>\n",
       "<style scoped>\n",
       "    .dataframe tbody tr th:only-of-type {\n",
       "        vertical-align: middle;\n",
       "    }\n",
       "\n",
       "    .dataframe tbody tr th {\n",
       "        vertical-align: top;\n",
       "    }\n",
       "\n",
       "    .dataframe thead th {\n",
       "        text-align: right;\n",
       "    }\n",
       "</style>\n",
       "<table border=\"1\" class=\"dataframe\">\n",
       "  <thead>\n",
       "    <tr style=\"text-align: right;\">\n",
       "      <th></th>\n",
       "      <th>BOROUGH</th>\n",
       "      <th>TRACT</th>\n",
       "      <th>AREA</th>\n",
       "      <th>LAT</th>\n",
       "      <th>LONG</th>\n",
       "      <th>geometry</th>\n",
       "    </tr>\n",
       "    <tr>\n",
       "      <th>GEOID</th>\n",
       "      <th></th>\n",
       "      <th></th>\n",
       "      <th></th>\n",
       "      <th></th>\n",
       "      <th></th>\n",
       "      <th></th>\n",
       "    </tr>\n",
       "  </thead>\n",
       "  <tbody>\n",
       "    <tr>\n",
       "      <th>36005006200</th>\n",
       "      <td>The Bronx</td>\n",
       "      <td>62</td>\n",
       "      <td>194004</td>\n",
       "      <td>40.833288</td>\n",
       "      <td>-73.875519</td>\n",
       "      <td>POLYGON ((-73.87925 40.83442, -73.87841 40.835...</td>\n",
       "    </tr>\n",
       "    <tr>\n",
       "      <th>36047005602</th>\n",
       "      <td>Brooklyn</td>\n",
       "      <td>56.02</td>\n",
       "      <td>135056</td>\n",
       "      <td>40.612738</td>\n",
       "      <td>-74.035739</td>\n",
       "      <td>POLYGON ((-74.04645 40.61073, -74.03903 40.613...</td>\n",
       "    </tr>\n",
       "    <tr>\n",
       "      <th>36081073700</th>\n",
       "      <td>Queens</td>\n",
       "      <td>737</td>\n",
       "      <td>210609</td>\n",
       "      <td>40.718440</td>\n",
       "      <td>-73.843249</td>\n",
       "      <td>POLYGON ((-73.84623 40.71787, -73.8459 40.7184...</td>\n",
       "    </tr>\n",
       "    <tr>\n",
       "      <th>36047030800</th>\n",
       "      <td>Brooklyn</td>\n",
       "      <td>308</td>\n",
       "      <td>681579</td>\n",
       "      <td>40.586551</td>\n",
       "      <td>-73.979511</td>\n",
       "      <td>POLYGON ((-73.98742 40.58513, -73.98729 40.585...</td>\n",
       "    </tr>\n",
       "    <tr>\n",
       "      <th>36061014601</th>\n",
       "      <td>Manhattan</td>\n",
       "      <td>146.01</td>\n",
       "      <td>74344</td>\n",
       "      <td>40.777192</td>\n",
       "      <td>-73.952161</td>\n",
       "      <td>POLYGON ((-73.95448 40.77814, -73.95398 40.778...</td>\n",
       "    </tr>\n",
       "  </tbody>\n",
       "</table>\n",
       "</div>"
      ],
      "text/plain": [
       "               BOROUGH   TRACT    AREA        LAT       LONG  \\\n",
       "GEOID                                                          \n",
       "36005006200  The Bronx      62  194004  40.833288 -73.875519   \n",
       "36047005602   Brooklyn   56.02  135056  40.612738 -74.035739   \n",
       "36081073700     Queens     737  210609  40.718440 -73.843249   \n",
       "36047030800   Brooklyn     308  681579  40.586551 -73.979511   \n",
       "36061014601  Manhattan  146.01   74344  40.777192 -73.952161   \n",
       "\n",
       "                                                      geometry  \n",
       "GEOID                                                           \n",
       "36005006200  POLYGON ((-73.87925 40.83442, -73.87841 40.835...  \n",
       "36047005602  POLYGON ((-74.04645 40.61073, -74.03903 40.613...  \n",
       "36081073700  POLYGON ((-73.84623 40.71787, -73.8459 40.7184...  \n",
       "36047030800  POLYGON ((-73.98742 40.58513, -73.98729 40.585...  \n",
       "36061014601  POLYGON ((-73.95448 40.77814, -73.95398 40.778...  "
      ]
     },
     "execution_count": 3,
     "metadata": {},
     "output_type": "execute_result"
    }
   ],
   "source": [
    "# Clean NYC census tract shapefiles\n",
    "gdf = preprocessing.clean_tracts(config.TRACTS_RAW, config.TRACTS_CLEAN)\n",
    "\n",
    "gdf.sample(n=5)"
   ]
  }
 ],
 "metadata": {
  "kernelspec": {
   "display_name": "datasci",
   "language": "python",
   "name": "python3"
  },
  "language_info": {
   "codemirror_mode": {
    "name": "ipython",
    "version": 3
   },
   "file_extension": ".py",
   "mimetype": "text/x-python",
   "name": "python",
   "nbconvert_exporter": "python",
   "pygments_lexer": "ipython3",
   "version": "3.12.11"
  }
 },
 "nbformat": 4,
 "nbformat_minor": 5
}
